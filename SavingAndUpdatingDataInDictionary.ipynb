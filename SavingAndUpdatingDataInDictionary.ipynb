{
 "cells": [
  {
   "cell_type": "code",
   "execution_count": null,
   "metadata": {},
   "outputs": [
    {
     "name": "stdout",
     "output_type": "stream",
     "text": [
      "enter\n",
      "a\n",
      "dt 1\n",
      "enter\n",
      "b\n",
      "dt 2\n",
      "enter\n",
      "c\n",
      "data not present enter\n",
      "5\n",
      "{'a': 1, 'b': 2, 'c': '5'}\n",
      "data updated\n",
      "enter\n",
      "a\n",
      "dt 1\n",
      "enter\n",
      "b\n",
      "dt 2\n",
      "enter\n",
      "c\n",
      "dt 5\n",
      "enter\n",
      "d\n",
      "data not present enter\n",
      "7\n",
      "{'a': 1, 'b': 2, 'c': '5', 'd': '7'}\n",
      "data updated\n",
      "enter\n",
      "h\n",
      "data not present enter\n",
      "8\n",
      "{'a': 1, 'b': 2, 'c': '5', 'd': '7', 'h': '8'}\n",
      "data updated\n",
      "enter\n",
      "c\n",
      "dt 5\n",
      "enter\n",
      "d\n",
      "dt 7\n",
      "enter\n",
      "h\n",
      "dt 8\n",
      "enter\n"
     ]
    }
   ],
   "source": [
    "h={\"a\":1,\"b\":2}\n",
    "while True:\n",
    "    print(\"enter\")\n",
    "    n=input()\n",
    "    if n==\"\":\n",
    "        break\n",
    "    if n in h:\n",
    "        print(\"dt \"+str(h[n]))\n",
    "              \n",
    "    else:         \n",
    "        print(\"data not present enter\")\n",
    "        ag=input()\n",
    "        h[n]=ag\n",
    "        print(h)\n",
    "        print(\"data updated\")"
   ]
  },
  {
   "cell_type": "code",
   "execution_count": null,
   "metadata": {},
   "outputs": [],
   "source": []
  },
  {
   "cell_type": "code",
   "execution_count": null,
   "metadata": {},
   "outputs": [],
   "source": []
  },
  {
   "cell_type": "code",
   "execution_count": null,
   "metadata": {},
   "outputs": [],
   "source": []
  }
 ],
 "metadata": {
  "kernelspec": {
   "display_name": "Python 3",
   "language": "python",
   "name": "python3"
  },
  "language_info": {
   "codemirror_mode": {
    "name": "ipython",
    "version": 3
   },
   "file_extension": ".py",
   "mimetype": "text/x-python",
   "name": "python",
   "nbconvert_exporter": "python",
   "pygments_lexer": "ipython3",
   "version": "3.7.4"
  }
 },
 "nbformat": 4,
 "nbformat_minor": 2
}
